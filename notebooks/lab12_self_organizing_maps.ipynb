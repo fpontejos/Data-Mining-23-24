{
 "cells": [
  {
   "cell_type": "code",
   "execution_count": null,
   "metadata": {},
   "outputs": [],
   "source": [
    "# install sompy\n",
    "# !conda install git\n",
    "# !pip install -U git+https://github.com/sevamoo/SOMPY.git\n",
    "# !pip install scikit-image\n",
    "# IF THIS IT TAKING TOO LONG, TRY TO INSTALL IT FROM THE ANACONDA PROMPT"
   ]
  },
  {
   "cell_type": "code",
   "execution_count": null,
   "metadata": {},
   "outputs": [],
   "source": [
    "########################################\n",
    "## If you run into issues running SOMPY that you cannot fix even after checking Google\n",
    "## Use the MiniSOM version of the notebook instead.\n",
    "########################################"
   ]
  },
  {
   "cell_type": "code",
   "execution_count": null,
   "metadata": {},
   "outputs": [],
   "source": [
    "from IPython.display import YouTubeVideo\n",
    "\n",
    "from os.path import join\n",
    "import pandas as pd\n",
    "import numpy as np\n",
    "\n",
    "import seaborn as sns\n",
    "import matplotlib.pyplot as plt\n",
    "\n",
    "from sklearn.cluster import KMeans, AgglomerativeClustering\n",
    "from sklearn.neighbors import KNeighborsClassifier\n",
    "\n",
    "import sompy\n",
    "from sompy.visualization.mapview import View2D\n",
    "from sompy.visualization.bmuhits import BmuHitsView\n",
    "from sompy.visualization.hitmap import HitMapView"
   ]
  },
  {
   "cell_type": "code",
   "execution_count": null,
   "metadata": {},
   "outputs": [],
   "source": [
    "from matplotlib import __version__ as mplver\n"
   ]
  },
  {
   "cell_type": "code",
   "execution_count": null,
   "metadata": {},
   "outputs": [],
   "source": [
    "print(\"matplotlib version is:\" , mplver)\n"
   ]
  },
  {
   "cell_type": "markdown",
   "metadata": {},
   "source": [
    "## Import preprocessed data"
   ]
  },
  {
   "cell_type": "code",
   "execution_count": null,
   "metadata": {},
   "outputs": [],
   "source": [
    "df = pd.read_csv(join('..', 'data', 'tugas_preprocessed.csv'))"
   ]
  },
  {
   "cell_type": "code",
   "execution_count": null,
   "metadata": {},
   "outputs": [],
   "source": [
    "df.head()"
   ]
  },
  {
   "cell_type": "code",
   "execution_count": null,
   "metadata": {},
   "outputs": [],
   "source": [
    "df.columns"
   ]
  },
  {
   "cell_type": "code",
   "execution_count": null,
   "metadata": {},
   "outputs": [],
   "source": [
    "# Splitting feature names into groups\n",
    "non_metric_features = df.columns[df.columns.str.startswith('x')]\n",
    "pc_features = df.columns[df.columns.str.startswith('PC')]\n",
    "metric_features = df.columns[~df.columns.str.startswith('x') & ~df.columns.str.startswith('PC')]"
   ]
  },
  {
   "cell_type": "markdown",
   "metadata": {},
   "source": [
    "## Self-organizing maps\n",
    "What is a SOM? How does it work? What is it used for?\n",
    "\n",
    "The SOM objective is to adjust the units to the data in the input space, so that the network is (as best as possible) representative of the training dataset.\n",
    "\n",
    "### How is it computed?\n",
    "### Important concepts:\n",
    "- Units and observations\n",
    "- BMU\n",
    "- Neighborhood function\n",
    "- Input and Output space"
   ]
  },
  {
   "cell_type": "markdown",
   "metadata": {},
   "source": [
    "**Video:**\n",
    "\n",
    "(May be a good idea to mute the video before playing)\n",
    "\n",
    "https://www.youtube.com/watch?v=k7DK5fnJH94\n"
   ]
  },
  {
   "cell_type": "markdown",
   "metadata": {},
   "source": [
    "### Characteristics:\n",
    "- Grid shape needs to be set a priori\n",
    "- Results depend on the initialization (even tough it can be quite robust to it)\n",
    "- Fitting a SOM can be computationally expensive\n",
    "- Capable of finding the global optimum (theoretically - if the LR -> 0)\n",
    "- Visualization tool for high-dimensional data\n",
    "\n",
    "### Additional analyses/tutorials\n",
    "- [Air Flights](https://github.com/sevamoo/SOMPY/blob/master/sompy/examples/AirFlights_hexagonal_grid.ipynb)\n",
    "- [Visualizations on toy datasets](https://gist.github.com/sevamoo/035c56e7428318dd3065013625f12a11)"
   ]
  },
  {
   "cell_type": "markdown",
   "metadata": {},
   "source": [
    "### How to apply Self-Organizing Maps?\n",
    "\n",
    "The training of a SOM is **more effective** if it is done in two phases: the unfolding phase, and the fine-tuning phase. \n",
    "\n",
    "In the **unfolding phase** the objective is to **spread the units** in the region of the input space where the data patterns are located. In this phase the neighbourhood function should have a large initial radius so that all units have high mobility and the map can quickly cover the input space.\n",
    "\n",
    "The **fine tuning phase**, as the name implies, is the process of small adjustments in order to **reduce the quantization error**, and centre the units in the areas where the density of patterns is highest. Usually, in this phase the learning rate and the neighbourhood radius are smaller than the ones used in the unfolding phase. As these two parameters are smaller, the map will need more time to adjust its weights and that is why the number of iterations or epochs is normally higher."
   ]
  },
  {
   "cell_type": "markdown",
   "metadata": {},
   "source": [
    "**Exercise**\n",
    "- Train a SOM with a 10x10 grid, random initialization, gaussian neighborhood function and hexagonal topology/lattice\n",
    "- Set an unfolding phase and a fine tuning phase of 100 iterations"
   ]
  },
  {
   "cell_type": "code",
   "execution_count": null,
   "metadata": {
    "scrolled": true
   },
   "outputs": [],
   "source": [
    "# This som implementation does not have a random seed parameter\n",
    "# We're going to set it up ourselves\n",
    "np.random.seed(42)\n",
    "\n",
    "sm = sompy.SOMFactory().build(\n",
    "    mapsize= ,# CODE HERE - mapsize NEEDS TO BE A LIST\n",
    "    training='batch',\n",
    "    component_names=metric_features\n",
    ")\n",
    "sm.train(n_job=4, verbose='info'  # CODE HERE"
   ]
  },
  {
   "cell_type": "markdown",
   "metadata": {},
   "source": [
    "## Visualizing data with SOMs"
   ]
  },
  {
   "cell_type": "markdown",
   "metadata": {},
   "source": [
    "Improving the visualizations produced by SOMPY is not a straightforward process.\n",
    "\n",
    "If you run into any issues with the SOMPY library that you are not able to fix even after searching on Google, you can instead use the [MiniSOM library](https://github.com/JustGlowing/minisom). It does not come with its own visualizations, but there are examples in the minisom version of the notebooks.\n"
   ]
  },
  {
   "cell_type": "markdown",
   "metadata": {},
   "source": [
    "### Component planes\n",
    "What do they represent? What kinds of information do they contain?\n",
    "\n",
    "Analyse these plots from the following perspectives:\n",
    "- Feature importance\n",
    "- Feature correlation (both globally and locally)\n",
    "- Data distribution\n",
    "- Outlier detection"
   ]
  },
  {
   "cell_type": "code",
   "execution_count": null,
   "metadata": {},
   "outputs": [],
   "source": [
    "## You may need to play around with this setting if the hexagon tiling looks \"weird\"; \n",
    "## Improving the visualizations produced by SOMPY is not a straightforward process\n",
    "\n",
    "plt.rcParams['figure.dpi'] = 72\n",
    "\n",
    "\n",
    "# Visualizing the Component planes (feature values)\n",
    "sns.set()\n",
    "view2D = View2D(12,12,\"\", text_size=10)\n",
    "view2D.show(sm, col_sz=3, what='codebook')\n",
    "plt.subplots_adjust(top=0.90)\n",
    "plt.suptitle(\"Component Planes\", fontsize=20)\n",
    "plt.show()"
   ]
  },
  {
   "cell_type": "markdown",
   "metadata": {},
   "source": [
    "## U-matrix\n",
    "Encode each neuron in the output space with the **average distance** to its neighbors in the input space.\n",
    " \n",
    "Analyse these plots from the following perspectives:\n",
    "- Clusters of units\n",
    "- Potential outliers (units which are very distant from its neighbors and have low frequency)"
   ]
  },
  {
   "cell_type": "code",
   "execution_count": null,
   "metadata": {},
   "outputs": [],
   "source": [
    "# Here you have U-matrix\n",
    "u = sompy.umatrix.UMatrixView(9, 9, 'umatrix', show_axis=True, text_size=8, show_text=True)\n",
    "\n",
    "UMAT = u.show(\n",
    "    sm, \n",
    "    distance=2, \n",
    "    row_normalized=False, \n",
    "    show_data=True, \n",
    "    contour=True, # Visualize isomorphic curves\n",
    "    blob=False\n",
    ")\n",
    "\n",
    "np.flip(UMAT[1], axis=1) # U-matrix values - they match with the plot colors"
   ]
  },
  {
   "cell_type": "markdown",
   "metadata": {},
   "source": [
    "### Hit-map\n",
    "Show the **frequency** of each Unit in the output map"
   ]
  },
  {
   "cell_type": "code",
   "execution_count": null,
   "metadata": {},
   "outputs": [],
   "source": [
    "vhts  = BmuHitsView(12,12,\"Hits Map\")\n",
    "vhts.show(sm, anotate=True, onlyzeros=False, labelsize=12, cmap=\"Blues\")\n",
    "plt.show()"
   ]
  },
  {
   "cell_type": "markdown",
   "metadata": {},
   "source": [
    "## Clustering with SOMs: K-means SOM vs Emergent SOM\n",
    "- In **k-means SOM**, the *number of units should be equal to the expected number of clusters*, and thus each cluster should be represented by a single unit. \n",
    "- In **emergent SOM**, a very *large number of units is used*. These very large SOM allow for very clear U-Matrices and are useful for detecting quite clearly the underlying structure of the data. This technique can be **used together with other clustering algorithms**."
   ]
  },
  {
   "cell_type": "markdown",
   "metadata": {},
   "source": [
    "**Exercise**\n",
    "- Train a SOM with a 50x50 grid, random initialization, gaussian neighborhood function and hexagonal topology/lattice\n",
    "- Set an unfolding phase and a fine tuning phase of 100 iterations"
   ]
  },
  {
   "cell_type": "code",
   "execution_count": null,
   "metadata": {},
   "outputs": [],
   "source": [
    "# This som implementation does not have a random seed parameter\n",
    "# We're going to set it up ourselves\n",
    "np.random.seed(42)\n",
    "\n",
    "# Notice that the SOM did not converge - We're under a time constraint for this class\n",
    "sm = sompy.SOMFactory().build(\n",
    "    df[metric_features].values, \n",
    "    # CODE HERE - mapsize NEEDS TO BE A LIST\n",
    "    initialization='random',\n",
    "    neighborhood='gaussian',\n",
    "    training='batch',\n",
    "    lattice='hexa',\n",
    "    component_names=metric_features\n",
    ")\n",
    "\n",
    "sm.train(n_job=4, verbose='info', # CODE HERE"
   ]
  },
  {
   "cell_type": "code",
   "execution_count": null,
   "metadata": {},
   "outputs": [],
   "source": [
    "# Coordinates of the units in the input space\n",
    "sm.codebook.matrix"
   ]
  },
  {
   "cell_type": "code",
   "execution_count": null,
   "metadata": {},
   "outputs": [],
   "source": [
    "# Component planes on the 50x50 grid\n",
    "sns.set()\n",
    "view2D = View2D(12,12,\"\", text_size=10)\n",
    "view2D.show(sm, col_sz=3, what='codebook')\n",
    "plt.subplots_adjust(top=0.90)\n",
    "plt.suptitle(\"Component Planes\", fontsize=20)\n",
    "plt.show()"
   ]
  },
  {
   "cell_type": "code",
   "execution_count": null,
   "metadata": {},
   "outputs": [],
   "source": [
    "# U-matrix of the 50x50 grid\n",
    "u = sompy.umatrix.UMatrixView(9, 9, 'umatrix', show_axis=True, text_size=8, show_text=True)\n",
    "\n",
    "UMAT = u.show(\n",
    "    sm, \n",
    "    distance=2, \n",
    "    row_normalized=False, \n",
    "    show_data=False, \n",
    "    contour=True # Visualize isomorphic curves\n",
    ")"
   ]
  },
  {
   "cell_type": "markdown",
   "metadata": {},
   "source": [
    "Now we can have a better idea of how the input space look like in terms of distances."
   ]
  },
  {
   "cell_type": "markdown",
   "metadata": {},
   "source": [
    "### K-Means on top of SOM units\n",
    "- Define number of clusters to retain"
   ]
  },
  {
   "cell_type": "code",
   "execution_count": null,
   "metadata": {},
   "outputs": [],
   "source": [
    "# Exercise:\n",
    "# Do a simple Inertia plot here (check last class' notebook)"
   ]
  },
  {
   "cell_type": "code",
   "execution_count": null,
   "metadata": {},
   "outputs": [],
   "source": [
    "# Perform K-Means clustering on top of the 2500 units (sm.get_node_vectors() output)\n",
    "kmeans = KMeans(n_clusters=4, init='k-means++', n_init=20, random_state=42)\n",
    "nodeclus_labels = kmeans.fit_predict(sm.codebook.matrix)\n",
    "sm.cluster_labels = nodeclus_labels  # setting the cluster labels of sompy\n",
    "\n",
    "hits = HitMapView(12, 12,\"Clustering\", text_size=10)\n",
    "hits.show(sm, anotate=True, onlyzeros=False, labelsize=7, cmap=\"Pastel1\")\n",
    "\n",
    "plt.show()"
   ]
  },
  {
   "cell_type": "markdown",
   "metadata": {},
   "source": [
    "### Hierarchical Clustering on top of SOM units\n",
    "- Define best linkage method\n",
    "- Define number of clusters to retain"
   ]
  },
  {
   "cell_type": "code",
   "execution_count": null,
   "metadata": {},
   "outputs": [],
   "source": [
    "# Exercise:\n",
    "# Do the R² plot here and the Dendrogram (check last class' notebook)"
   ]
  },
  {
   "cell_type": "code",
   "execution_count": null,
   "metadata": {},
   "outputs": [],
   "source": [
    "# Perform Hierarchical clustering on top of the 2500 units (sm.get_node_vectors() output)\n",
    "hierclust = AgglomerativeClustering(n_clusters=4, linkage='ward')\n",
    "nodeclus_labels = hierclust.fit_predict(sm.codebook.matrix)\n",
    "sm.cluster_labels = nodeclus_labels  # setting the cluster labels of sompy\n",
    "\n",
    "hits  = HitMapView(12, 12,\"Clustering\",text_size=10)\n",
    "hits.show(sm, anotate=True, onlyzeros=False, labelsize=7, cmap=\"Pastel1\")\n",
    "\n",
    "plt.show()"
   ]
  },
  {
   "cell_type": "markdown",
   "metadata": {},
   "source": [
    "### Final SOM Clustering solution"
   ]
  },
  {
   "cell_type": "code",
   "execution_count": null,
   "metadata": {},
   "outputs": [],
   "source": [
    "# Check the nodes and and respective clusters\n",
    "nodes = sm.codebook.matrix\n",
    "\n",
    "df_nodes = pd.DataFrame(nodes, columns=metric_features)\n",
    "df_nodes['label'] = nodeclus_labels\n",
    "df_nodes"
   ]
  },
  {
   "cell_type": "code",
   "execution_count": null,
   "metadata": {},
   "outputs": [],
   "source": [
    "# Obtaining SOM's BMUs labels\n",
    "bmus_map = sm.find_bmu(df[metric_features])[0]  # get bmus for each observation in df\n",
    "\n",
    "df_bmus = pd.DataFrame(\n",
    "    np.concatenate((df, np.expand_dims(bmus_map,1)), axis=1),\n",
    "    index=df.index, columns=np.append(df.columns,\"BMU\")\n",
    ")\n",
    "df_bmus"
   ]
  },
  {
   "cell_type": "code",
   "execution_count": null,
   "metadata": {},
   "outputs": [],
   "source": [
    "# Get cluster labels for each observation\n",
    "df_final = df_bmus.merge(df_nodes['label'], 'left', left_on=\"BMU\", right_index=True)\n",
    "df_final"
   ]
  },
  {
   "cell_type": "code",
   "execution_count": null,
   "metadata": {},
   "outputs": [],
   "source": [
    "# Characterizing the final clusters\n",
    "df_final.drop(columns='BMU').groupby('label').mean()"
   ]
  },
  {
   "cell_type": "markdown",
   "metadata": {},
   "source": [
    "## Analysing the appropriateness of our solution\n",
    "### R²"
   ]
  },
  {
   "cell_type": "code",
   "execution_count": null,
   "metadata": {},
   "outputs": [],
   "source": [
    "# using R²\n",
    "def get_ss(df):\n",
    "    ss = np.sum(df.var() * (df.count() - 1))\n",
    "    return ss  # return sum of sum of squares of each df variable\n",
    "\n",
    "sst = get_ss(df_final[metric_features])  # get total sum of squares\n",
    "ssw_labels = df_final[metric_features.to_list() + [\"label\"]].groupby(by='label').apply(get_ss)  # compute ssw for each cluster labels\n",
    "ssb = sst - np.sum(ssw_labels)  # remember: SST = SSW + SSB\n",
    "r2 = ssb / sst\n",
    "r2"
   ]
  },
  {
   "cell_type": "markdown",
   "metadata": {},
   "source": [
    "### Quantization error:\n",
    "The quantization error is given by the average distance between a unit and the data points mapped to it i.e. all the input data points that share it as BMU.\n",
    "\n",
    "$$q_e = \\frac{\\sum_{i=0}^{N_e}||x_i - w_e||}{N_e}$$\n",
    "\n",
    "$$Q = \\frac{\\sum_{e=0}^Eq_e}{E}$$\n",
    ", where:\n",
    "\n",
    "$Q$ is the overall quantization error of SOM,\n",
    "\n",
    "$q_e$ is the quantization error for unit $e$,\n",
    "\n",
    "$x_i$ is a data point/ observation,\n",
    "\n",
    "$w_e$ is the unit $e$ representation in the input space,\n",
    "\n",
    "$N_e$ is number of data points mapped to unit $e$,\n",
    "\n",
    "$E$ is the number of units in the SOM grid"
   ]
  },
  {
   "cell_type": "code",
   "execution_count": null,
   "metadata": {},
   "outputs": [],
   "source": []
  }
 ],
 "metadata": {
  "kernelspec": {
   "display_name": "Python 3 (ipykernel)",
   "language": "python",
   "name": "python3"
  },
  "language_info": {
   "codemirror_mode": {
    "name": "ipython",
    "version": 3
   },
   "file_extension": ".py",
   "mimetype": "text/x-python",
   "name": "python",
   "nbconvert_exporter": "python",
   "pygments_lexer": "ipython3",
   "version": "3.11.5"
  }
 },
 "nbformat": 4,
 "nbformat_minor": 4
}
